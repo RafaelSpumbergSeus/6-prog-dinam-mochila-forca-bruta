{
 "cells": [
  {
   "cell_type": "code",
   "execution_count": 3,
   "metadata": {},
   "outputs": [
    {
     "name": "stdout",
     "output_type": "stream",
     "text": [
      "Valor máximo: 7\n",
      "Itens selecionados: [(3, 4), (2, 3)]\n",
      "Número de iterações: 20\n"
     ]
    }
   ],
   "source": [
    "def knapsack_dp(N, C, items):\n",
    "    maxTab = [[0 for _ in range(C+1)] for _ in range(N+1)]\n",
    "    iterations = 0\n",
    "    \n",
    "    for i in range(1, N+1):\n",
    "        peso_i, valor_i = items[i-1]  \n",
    "        for j in range(1, C+1):\n",
    "            iterations += 1\n",
    "            if peso_i <= j:\n",
    "                maxTab[i][j] = max(\n",
    "                    maxTab[i-1][j],\n",
    "                    valor_i + maxTab[i-1][j - peso_i]\n",
    "                )\n",
    "            else:\n",
    "                maxTab[i][j] = maxTab[i-1][j]\n",
    "    \n",
    "    selected = []\n",
    "    j = C\n",
    "    for i in range(N, 0, -1):\n",
    "        if maxTab[i][j] != maxTab[i-1][j]:\n",
    "            selected.append(items[i-1])\n",
    "            j -= items[i-1][0]\n",
    "    \n",
    "    return maxTab[N][C], selected, iterations\n",
    "\n",
    "items = [\n",
    "    (2, 3),  \n",
    "    (3, 4),\n",
    "    (4, 5),\n",
    "    (5, 6)\n",
    "]\n",
    "capacity = 5\n",
    "\n",
    "max_val, selected, iters = knapsack_dp(len(items), capacity, items)\n",
    "print(f\"Valor máximo: {max_val}\")\n",
    "print(f\"Itens selecionados: {selected}\")\n",
    "print(f\"Número de iterações: {iters}\")"
   ]
  }
 ],
 "metadata": {
  "kernelspec": {
   "display_name": "Python 3",
   "language": "python",
   "name": "python3"
  },
  "language_info": {
   "codemirror_mode": {
    "name": "ipython",
    "version": 3
   },
   "file_extension": ".py",
   "mimetype": "text/x-python",
   "name": "python",
   "nbconvert_exporter": "python",
   "pygments_lexer": "ipython3",
   "version": "3.13.1"
  }
 },
 "nbformat": 4,
 "nbformat_minor": 2
}
